{
  "nbformat": 4,
  "nbformat_minor": 0,
  "metadata": {
    "colab": {
      "provenance": [],
      "authorship_tag": "ABX9TyP9cQ1pHoZ4AcAGsWac5rMz",
      "include_colab_link": true
    },
    "kernelspec": {
      "name": "python3",
      "display_name": "Python 3"
    },
    "language_info": {
      "name": "python"
    }
  },
  "cells": [
    {
      "cell_type": "markdown",
      "metadata": {
        "id": "view-in-github",
        "colab_type": "text"
      },
      "source": [
        "<a href=\"https://colab.research.google.com/github/vidhyachowdary-21/lets-upgrade-assignments/blob/main/program_which_has_function_to_find_out_a_number_is_prime_or_not.ipynb\" target=\"_parent\"><img src=\"https://colab.research.google.com/assets/colab-badge.svg\" alt=\"Open In Colab\"/></a>"
      ]
    },
    {
      "cell_type": "code",
      "execution_count": 1,
      "metadata": {
        "colab": {
          "base_uri": "https://localhost:8080/"
        },
        "id": "H4v5E3iRqe1U",
        "outputId": "9b2d02a7-c722-434f-e43b-70783a7818db"
      },
      "outputs": [
        {
          "output_type": "stream",
          "name": "stdout",
          "text": [
            "Enter a number: 5\n",
            "\n",
            "5is a prime number\n"
          ]
        }
      ],
      "source": [
        "def checkprime(x):\n",
        "  for i in range(2,x):\n",
        "    if n%i==0:\n",
        "      return 1\n",
        "print(\"Enter a number: \", end=\"\")\n",
        "n=int(input())\n",
        "\n",
        "p=checkprime(n)\n",
        "if p==1:\n",
        "  print(\"\\n\" +str(n)+ \"is not a prime number\")\n",
        "else:\n",
        "  print(\"\\n\" +str(n)+ \"is a prime number\")"
      ]
    }
  ]
}